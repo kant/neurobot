{
 "cells": [
  {
   "cell_type": "markdown",
   "metadata": {},
   "source": [
    "### Importing lib:"
   ]
  },
  {
   "cell_type": "code",
   "execution_count": 1,
   "metadata": {},
   "outputs": [],
   "source": [
    "import sys\n",
    "import os\n",
    "\n",
    "sys.path.append('../')\n",
    "\n",
    "import neurobot"
   ]
  },
  {
   "cell_type": "markdown",
   "metadata": {},
   "source": [
    "### Importing toy dataset from `sklearn.datasets.load_breast_cancer()`"
   ]
  },
  {
   "cell_type": "code",
   "execution_count": 2,
   "metadata": {},
   "outputs": [],
   "source": [
    "from sklearn import datasets\n",
    "\n",
    "data = datasets.load_breast_cancer()"
   ]
  },
  {
   "cell_type": "markdown",
   "metadata": {},
   "source": [
    "###### Choose your X (train_data) and y (train_targets) as `pandas.DataFrame()` or  `numpy.array()`:"
   ]
  },
  {
   "cell_type": "code",
   "execution_count": 3,
   "metadata": {},
   "outputs": [
    {
     "data": {
      "text/plain": [
       "((569, 30), (569,))"
      ]
     },
     "execution_count": 3,
     "metadata": {},
     "output_type": "execute_result"
    }
   ],
   "source": [
    "# X and y suppose to be either np.arrays or pd.DataFrames\n",
    "\n",
    "X = data.data\n",
    "y = data.target\n",
    "X.shape, y.shape"
   ]
  },
  {
   "cell_type": "markdown",
   "metadata": {},
   "source": [
    "### Defining new object of Grid Cross Validation Linear class:"
   ]
  },
  {
   "cell_type": "code",
   "execution_count": 4,
   "metadata": {},
   "outputs": [
    {
     "name": "stderr",
     "output_type": "stream",
     "text": [
      "C:\\ProgramData\\Anaconda3\\envs\\neurobot\\lib\\site-packages\\sklearn\\utils\\deprecation.py:143: FutureWarning: The sklearn.feature_selection.from_model module is  deprecated in version 0.22 and will be removed in version 0.24. The corresponding classes / functions should instead be imported from sklearn.feature_selection. Anything that cannot be imported from sklearn.feature_selection is now part of the private API.\n",
      "  warnings.warn(message, FutureWarning)\n"
     ]
    }
   ],
   "source": [
    "from neurobot.linear import linear_grid"
   ]
  },
  {
   "cell_type": "code",
   "execution_count": 5,
   "metadata": {},
   "outputs": [],
   "source": [
    "import pandas as pd"
   ]
  },
  {
   "cell_type": "code",
   "execution_count": 6,
   "metadata": {},
   "outputs": [],
   "source": [
    "temp_grid = linear_grid.GridCVLinear(X, y, classifiers=['lr', 'svc'])"
   ]
  },
  {
   "cell_type": "code",
   "execution_count": 7,
   "metadata": {
    "scrolled": false
   },
   "outputs": [
    {
     "name": "stdout",
     "output_type": "stream",
     "text": [
      "Number of samples  569 \n",
      "\n",
      "Number of features  30 \n",
      "\n",
      "Target distribution: \n",
      "1    357\n",
      "0    212\n",
      "Name: 0, dtype: int64 \n",
      "\n",
      "Training SVC(linear)...\n",
      "(training took 7.434493780136108s)\n",
      "\n",
      "Training LR...\n",
      "(training took 0.6930229663848877s)\n",
      "\n"
     ]
    },
    {
     "data": {
      "text/plain": [
       "[GridSearchCV(cv=RepeatedStratifiedKFold(n_repeats=5, n_splits=5, random_state=42),\n",
       "              estimator=Pipeline(steps=[('Fill_NaN',\n",
       "                                         SimpleImputer(strategy='median')),\n",
       "                                        ('StdScaler', StandardScaler()),\n",
       "                                        ('oversampling',\n",
       "                                         SMOTE(n_jobs=-1, random_state=42,\n",
       "                                               sampling_strategy='minority')),\n",
       "                                        ('dim_reduction',\n",
       "                                         SelectKBest(score_func=<function ttest_ind at 0x00000159CDD48160>)),\n",
       "                                        ('classifier',\n",
       "                                         SVC(probability=True,\n",
       "                                             random_state=42))]),\n",
       "              n_jobs=-1,\n",
       "              param_grid={'classifier__C': [10, 100, 1000],\n",
       "                          'classifier__class_weight': [{0: 1, 1: 1}],\n",
       "                          'classifier__gamma': [0.001, 0.01],\n",
       "                          'classifier__kernel': ['linear'],\n",
       "                          'dim_reduction': [SelectKBest(k='all')]},\n",
       "              scoring='roc_auc'),\n",
       " GridSearchCV(cv=RepeatedStratifiedKFold(n_repeats=5, n_splits=5, random_state=42),\n",
       "              estimator=Pipeline(steps=[('Fill_NaN',\n",
       "                                         SimpleImputer(strategy='median')),\n",
       "                                        ('StdScaler', StandardScaler()),\n",
       "                                        ('oversampling',\n",
       "                                         SMOTE(n_jobs=-1, random_state=42,\n",
       "                                               sampling_strategy='minority')),\n",
       "                                        ('dim_reduction',\n",
       "                                         SelectKBest(score_func=<function ttest_ind at 0x00000159CDD48160>)),\n",
       "                                        ('classifier',\n",
       "                                         LogisticRegression(random_state=42,\n",
       "                                                            solver='liblinear'))]),\n",
       "              n_jobs=-1,\n",
       "              param_grid={'classifier__C': [0.0001, 0.001, 0.01],\n",
       "                          'classifier__penalty': ['l1', 'l2'],\n",
       "                          'dim_reduction': [SelectKBest(k='all')]},\n",
       "              scoring='roc_auc'),\n",
       " Pipeline(steps=[('Fill_NaN', SimpleImputer(strategy='median')),\n",
       "                 ('StdScaler', StandardScaler()),\n",
       "                 ('oversampling',\n",
       "                  SMOTE(n_jobs=-1, random_state=42,\n",
       "                        sampling_strategy='minority')),\n",
       "                 ('dim_reduction', SelectKBest(k='all')),\n",
       "                 ('classifier',\n",
       "                  LogisticRegression(C=0.01, random_state=42,\n",
       "                                     solver='liblinear'))])]"
      ]
     },
     "execution_count": 7,
     "metadata": {},
     "output_type": "execute_result"
    }
   ],
   "source": [
    "temp_grid.train()"
   ]
  },
  {
   "cell_type": "code",
   "execution_count": 8,
   "metadata": {
    "scrolled": false
   },
   "outputs": [
    {
     "data": {
      "text/html": [
       "<div>\n",
       "<style scoped>\n",
       "    .dataframe tbody tr th:only-of-type {\n",
       "        vertical-align: middle;\n",
       "    }\n",
       "\n",
       "    .dataframe tbody tr th {\n",
       "        vertical-align: top;\n",
       "    }\n",
       "\n",
       "    .dataframe thead th {\n",
       "        text-align: right;\n",
       "    }\n",
       "</style>\n",
       "<table border=\"1\" class=\"dataframe\">\n",
       "  <thead>\n",
       "    <tr style=\"text-align: right;\">\n",
       "      <th></th>\n",
       "      <th>best parameters</th>\n",
       "      <th>best dim. reduction method</th>\n",
       "      <th>mean</th>\n",
       "      <th>std</th>\n",
       "    </tr>\n",
       "    <tr>\n",
       "      <th>classifier</th>\n",
       "      <th></th>\n",
       "      <th></th>\n",
       "      <th></th>\n",
       "      <th></th>\n",
       "    </tr>\n",
       "  </thead>\n",
       "  <tbody>\n",
       "    <tr>\n",
       "      <th>SVC</th>\n",
       "      <td>classifier__C = 10, classifier__class_weight =...</td>\n",
       "      <td>SelectKBest(k='all')</td>\n",
       "      <td>0.990514</td>\n",
       "      <td>0.007157</td>\n",
       "    </tr>\n",
       "    <tr>\n",
       "      <th>LR</th>\n",
       "      <td>classifier__C = 0.01, classifier__penalty = l2</td>\n",
       "      <td>SelectKBest(k='all')</td>\n",
       "      <td>0.993682</td>\n",
       "      <td>0.004659</td>\n",
       "    </tr>\n",
       "  </tbody>\n",
       "</table>\n",
       "</div>"
      ],
      "text/plain": [
       "                                              best parameters  \\\n",
       "classifier                                                      \n",
       "SVC         classifier__C = 10, classifier__class_weight =...   \n",
       "LR             classifier__C = 0.01, classifier__penalty = l2   \n",
       "\n",
       "           best dim. reduction method      mean       std  \n",
       "classifier                                                 \n",
       "SVC              SelectKBest(k='all')  0.990514  0.007157  \n",
       "LR               SelectKBest(k='all')  0.993682  0.004659  "
      ]
     },
     "metadata": {},
     "output_type": "display_data"
    },
    {
     "data": {
      "image/png": "[encoded data removed]",
      "text/plain": [
       "<Figure size 288x360 with 1 Axes>"
      ]
     },
     "metadata": {},
     "output_type": "display_data"
    },
    {
     "data": {
      "image/png": "[encoded data removed]",
      "text/plain": [
       "<Figure size 720x216 with 2 Axes>"
      ]
     },
     "metadata": {},
     "output_type": "display_data"
    },
    {
     "name": "stdout",
     "output_type": "stream",
     "text": [
      "Best model: \n",
      "LR\n",
      "classifier__C = 0.01\n",
      "classifier__penalty = l2\n",
      "dim_reduction = SelectKBest(k='all')\n"
     ]
    }
   ],
   "source": [
    "# observing function\n",
    "temp_grid.print_results()"
   ]
  },
  {
   "cell_type": "code",
   "execution_count": 8,
   "metadata": {},
   "outputs": [
    {
     "name": "stdout",
     "output_type": "stream",
     "text": [
      "test_classification\n",
      "SVC  acc: 97.37%  95% Confidence interval: [95.69, 98.42]  time 3.29\n",
      "LR  acc: 97.19%  95% Confidence interval: [95.87, 98.48]  time 0.9\n"
     ]
    }
   ],
   "source": [
    "temp_grid.bootstrap_632()"
   ]
  },
  {
   "cell_type": "code",
   "execution_count": null,
   "metadata": {},
   "outputs": [
    {
     "name": "stdout",
     "output_type": "stream",
     "text": [
      "test_classification\n"
     ]
    }
   ],
   "source": [
    "temp_grid.loo_cv()\n",
    "\n",
    "# test_classification\n",
    "# SVC:   acc 0.96  tpr 0.94  tnr 0.97  time 97.8\n",
    "# LR:   acc 0.97  tpr 0.97  tnr 0.97  time 66.53\n",
    "# RFC:   acc 0.96  tpr 0.95  tnr 0.96  time 410.69"
   ]
  },
  {
   "cell_type": "code",
   "execution_count": null,
   "metadata": {
    "scrolled": false
   },
   "outputs": [],
   "source": [
    "# function with validation, full pipeline\n",
    "temp_grid.train_val(problem_name='cancer', \n",
    "                    fig_name='results/cancer_grid_val_plot')"
   ]
  },
  {
   "cell_type": "markdown",
   "metadata": {},
   "source": [
    "//TODO \n",
    "0. почему у LR на фолдах такая дисперсия\n",
    "1. check logging file\n",
    "2. проверить импорты, не импортируем ли мы слишком много\n",
    "3. исправить ворнинги\n",
    "4. сделать отчет входного анализа\n",
    "5. сделать входный выбор грида"
   ]
  },
  {
   "cell_type": "code",
   "execution_count": null,
   "metadata": {},
   "outputs": [],
   "source": []
  }
 ],
 "metadata": {
  "kernelspec": {
   "display_name": "Neurobot",
   "language": "python",
   "name": "neurobot"
  },
  "language_info": {
   "codemirror_mode": {
    "name": "ipython",
    "version": 3
   },
   "file_extension": ".py",
   "mimetype": "text/x-python",
   "name": "python",
   "nbconvert_exporter": "python",
   "pygments_lexer": "ipython3",
   "version": "3.8.5"
  }
 },
 "nbformat": 4,
 "nbformat_minor": 2
}
