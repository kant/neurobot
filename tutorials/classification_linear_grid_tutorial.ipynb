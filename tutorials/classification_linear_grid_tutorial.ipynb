{
 "cells": [
  {
   "cell_type": "markdown",
   "metadata": {},
   "source": [
    "### Importing lib:"
   ]
  },
  {
   "cell_type": "code",
   "execution_count": 1,
   "metadata": {},
   "outputs": [],
   "source": [
    "import sys\n",
    "import os\n",
    "\n",
    "sys.path.append('../')\n",
    "\n",
    "import neurobot"
   ]
  },
  {
   "cell_type": "markdown",
   "metadata": {},
   "source": [
    "### Importing toy dataset from `sklearn.datasets.load_breast_cancer()`"
   ]
  },
  {
   "cell_type": "code",
   "execution_count": 2,
   "metadata": {},
   "outputs": [],
   "source": [
    "from sklearn import datasets\n",
    "\n",
    "data = datasets.load_breast_cancer()"
   ]
  },
  {
   "cell_type": "markdown",
   "metadata": {},
   "source": [
    "###### Choose your X (train_data) and y (train_targets) as `pandas.DataFrame()` or  `numpy.array()`:"
   ]
  },
  {
   "cell_type": "code",
   "execution_count": 3,
   "metadata": {},
   "outputs": [
    {
     "data": {
      "text/plain": [
       "((569, 30), (569,))"
      ]
     },
     "execution_count": 3,
     "metadata": {},
     "output_type": "execute_result"
    }
   ],
   "source": [
    "# X and y suppose to be either np.arrays or pd.DataFrames\n",
    "\n",
    "X = data.data\n",
    "y = data.target\n",
    "X.shape, y.shape"
   ]
  },
  {
   "cell_type": "markdown",
   "metadata": {},
   "source": [
    "### Defining new object of Grid Cross Validation Linear class:"
   ]
  },
  {
   "cell_type": "code",
   "execution_count": 4,
   "metadata": {},
   "outputs": [
    {
     "name": "stderr",
     "output_type": "stream",
     "text": [
      "C:\\Users\\Lenovo\\Anaconda3\\lib\\site-packages\\sklearn\\utils\\deprecation.py:144: FutureWarning: The sklearn.feature_selection.from_model module is  deprecated in version 0.22 and will be removed in version 0.24. The corresponding classes / functions should instead be imported from sklearn.feature_selection. Anything that cannot be imported from sklearn.feature_selection is now part of the private API.\n",
      "  warnings.warn(message, FutureWarning)\n",
      "C:\\Users\\Lenovo\\Anaconda3\\lib\\site-packages\\sklearn\\externals\\joblib\\__init__.py:15: FutureWarning: sklearn.externals.joblib is deprecated in 0.21 and will be removed in 0.23. Please import this functionality directly from joblib, which can be installed with: pip install joblib. If this warning is raised when loading pickled models, you may need to re-serialize those models with scikit-learn 0.21+.\n",
      "  warnings.warn(msg, category=FutureWarning)\n"
     ]
    }
   ],
   "source": [
    "from neurobot.linear import linear_grid"
   ]
  },
  {
   "cell_type": "code",
   "execution_count": 5,
   "metadata": {},
   "outputs": [],
   "source": [
    "import pandas as pd"
   ]
  },
  {
   "cell_type": "code",
   "execution_count": 6,
   "metadata": {},
   "outputs": [],
   "source": [
    "temp_grid = linear_grid.GridCVLinear(X, y)"
   ]
  },
  {
   "cell_type": "code",
   "execution_count": 8,
   "metadata": {},
   "outputs": [
    {
     "name": "stdout",
     "output_type": "stream",
     "text": [
      "Number of samples  569 \n",
      "\n",
      "Number of features  30 \n",
      "\n",
      "Target distribution: \n",
      "1    357\n",
      "0    212\n",
      "Name: 0, dtype: int64 \n",
      "\n",
      "Training SVC(linear)...\n",
      "(training took 11.051142930984497s)\n",
      "\n",
      "Training LR...\n",
      "(training took 2.6856746673583984s)\n",
      "\n",
      "Training RFC...\n",
      "(training took 22.165415287017822s)\n",
      "\n"
     ]
    },
    {
     "data": {
      "text/plain": [
       "[Pipeline(memory=None,\n",
       "          steps=[('Fill_NaN',\n",
       "                  SimpleImputer(add_indicator=False, copy=True, fill_value=None,\n",
       "                                missing_values=nan, strategy='median',\n",
       "                                verbose=0)),\n",
       "                 ('StdScaler',\n",
       "                  StandardScaler(copy=True, with_mean=True, with_std=True)),\n",
       "                 ('oversampling',\n",
       "                  SMOTE(k_neighbors=5, n_jobs=-1, random_state=42,\n",
       "                        sampling_strategy='minority')),\n",
       "                 ('dim_reduction',\n",
       "                  SelectKBest(k='all',\n",
       "                              score_func=<function f_classif at 0x00000224449951F8>)),\n",
       "                 ('classifier',\n",
       "                  LogisticRegression(C=0.01, class_weight=None, dual=False,\n",
       "                                     fit_intercept=True, intercept_scaling=1,\n",
       "                                     l1_ratio=None, max_iter=100,\n",
       "                                     multi_class='auto', n_jobs=None,\n",
       "                                     penalty='l2', random_state=42,\n",
       "                                     solver='liblinear', tol=0.0001, verbose=0,\n",
       "                                     warm_start=False))],\n",
       "          verbose=False),\n",
       " GridSearchCV(cv=RepeatedStratifiedKFold(n_repeats=5, n_splits=5, random_state=42),\n",
       "              error_score=nan,\n",
       "              estimator=Pipeline(memory=None,\n",
       "                                 steps=[('Fill_NaN',\n",
       "                                         SimpleImputer(add_indicator=False,\n",
       "                                                       copy=True,\n",
       "                                                       fill_value=None,\n",
       "                                                       missing_values=nan,\n",
       "                                                       strategy='median',\n",
       "                                                       verbose=0)),\n",
       "                                        ('StdScaler',\n",
       "                                         StandardScaler(copy=True,\n",
       "                                                        with_mean=True,\n",
       "                                                        with_std=True)),\n",
       "                                        ('oversampling',\n",
       "                                         SMOTE(k_ne...\n",
       "              iid='deprecated', n_jobs=-1,\n",
       "              param_grid={'classifier__C': [10, 100, 1000],\n",
       "                          'classifier__class_weight': [{0: 1, 1: 1}],\n",
       "                          'classifier__gamma': [0.001, 0.01],\n",
       "                          'classifier__kernel': ['linear'],\n",
       "                          'dim_reduction': [SelectKBest(k='all',\n",
       "                                                        score_func=<function f_classif at 0x00000224449951F8>)]},\n",
       "              pre_dispatch='2*n_jobs', refit=True, return_train_score=False,\n",
       "              scoring='roc_auc', verbose=0),\n",
       " GridSearchCV(cv=RepeatedStratifiedKFold(n_repeats=5, n_splits=5, random_state=42),\n",
       "              error_score=nan,\n",
       "              estimator=Pipeline(memory=None,\n",
       "                                 steps=[('Fill_NaN',\n",
       "                                         SimpleImputer(add_indicator=False,\n",
       "                                                       copy=True,\n",
       "                                                       fill_value=None,\n",
       "                                                       missing_values=nan,\n",
       "                                                       strategy='median',\n",
       "                                                       verbose=0)),\n",
       "                                        ('StdScaler',\n",
       "                                         StandardScaler(copy=True,\n",
       "                                                        with_mean=True,\n",
       "                                                        with_std=True)),\n",
       "                                        ('oversampling',\n",
       "                                         SMOTE(k_ne...\n",
       "                                                            solver='liblinear',\n",
       "                                                            tol=0.0001,\n",
       "                                                            verbose=0,\n",
       "                                                            warm_start=False))],\n",
       "                                 verbose=False),\n",
       "              iid='deprecated', n_jobs=-1,\n",
       "              param_grid={'classifier__C': [0.0001, 0.001, 0.01],\n",
       "                          'classifier__penalty': ['l1', 'l2'],\n",
       "                          'dim_reduction': [SelectKBest(k='all',\n",
       "                                                        score_func=<function f_classif at 0x00000224449951F8>)]},\n",
       "              pre_dispatch='2*n_jobs', refit=True, return_train_score=False,\n",
       "              scoring='roc_auc', verbose=0),\n",
       " GridSearchCV(cv=RepeatedStratifiedKFold(n_repeats=5, n_splits=5, random_state=42),\n",
       "              error_score=nan,\n",
       "              estimator=Pipeline(memory=None,\n",
       "                                 steps=[('Fill_NaN',\n",
       "                                         SimpleImputer(add_indicator=False,\n",
       "                                                       copy=True,\n",
       "                                                       fill_value=None,\n",
       "                                                       missing_values=nan,\n",
       "                                                       strategy='median',\n",
       "                                                       verbose=0)),\n",
       "                                        ('StdScaler',\n",
       "                                         StandardScaler(copy=True,\n",
       "                                                        with_mean=True,\n",
       "                                                        with_std=True)),\n",
       "                                        ('oversampling',\n",
       "                                         SMOTE(k_ne...\n",
       "                                                                verbose=0,\n",
       "                                                                warm_start=False))],\n",
       "                                 verbose=False),\n",
       "              iid='deprecated', n_jobs=-1,\n",
       "              param_grid={'classifier__class_weight': [{0: 1, 1: 1}],\n",
       "                          'classifier__n_estimators': [23, 159, 295, 431, 567],\n",
       "                          'dim_reduction': [SelectKBest(k='all',\n",
       "                                                        score_func=<function f_classif at 0x00000224449951F8>)]},\n",
       "              pre_dispatch='2*n_jobs', refit=True, return_train_score=False,\n",
       "              scoring='roc_auc', verbose=0)]"
      ]
     },
     "execution_count": 8,
     "metadata": {},
     "output_type": "execute_result"
    }
   ],
   "source": [
    "temp_grid.train()"
   ]
  },
  {
   "cell_type": "code",
   "execution_count": null,
   "metadata": {},
   "outputs": [
    {
     "data": {
      "text/html": [
       "<div>\n",
       "<style scoped>\n",
       "    .dataframe tbody tr th:only-of-type {\n",
       "        vertical-align: middle;\n",
       "    }\n",
       "\n",
       "    .dataframe tbody tr th {\n",
       "        vertical-align: top;\n",
       "    }\n",
       "\n",
       "    .dataframe thead th {\n",
       "        text-align: right;\n",
       "    }\n",
       "</style>\n",
       "<table border=\"1\" class=\"dataframe\">\n",
       "  <thead>\n",
       "    <tr style=\"text-align: right;\">\n",
       "      <th></th>\n",
       "      <th>best parameters</th>\n",
       "      <th>best dim. reduction method</th>\n",
       "      <th>mean</th>\n",
       "      <th>std</th>\n",
       "    </tr>\n",
       "    <tr>\n",
       "      <th>classifier</th>\n",
       "      <th></th>\n",
       "      <th></th>\n",
       "      <th></th>\n",
       "      <th></th>\n",
       "    </tr>\n",
       "  </thead>\n",
       "  <tbody>\n",
       "    <tr>\n",
       "      <td>SVC</td>\n",
       "      <td>classifier__C = 10, classifier__class_weight =...</td>\n",
       "      <td>SelectKBest(k='all', score_func=&lt;function f_cl...</td>\n",
       "      <td>0.990514</td>\n",
       "      <td>0.007157</td>\n",
       "    </tr>\n",
       "    <tr>\n",
       "      <td>LR</td>\n",
       "      <td>classifier__C = 0.01, classifier__penalty = l2</td>\n",
       "      <td>SelectKBest(k='all', score_func=&lt;function f_cl...</td>\n",
       "      <td>0.993682</td>\n",
       "      <td>0.004659</td>\n",
       "    </tr>\n",
       "    <tr>\n",
       "      <td>RFC</td>\n",
       "      <td>classifier__class_weight = {1: 1, 0: 1}, class...</td>\n",
       "      <td>SelectKBest(k='all', score_func=&lt;function f_cl...</td>\n",
       "      <td>0.992002</td>\n",
       "      <td>0.005714</td>\n",
       "    </tr>\n",
       "  </tbody>\n",
       "</table>\n",
       "</div>"
      ],
      "text/plain": [
       "                                              best parameters  \\\n",
       "classifier                                                      \n",
       "SVC         classifier__C = 10, classifier__class_weight =...   \n",
       "LR             classifier__C = 0.01, classifier__penalty = l2   \n",
       "RFC         classifier__class_weight = {1: 1, 0: 1}, class...   \n",
       "\n",
       "                                   best dim. reduction method      mean  \\\n",
       "classifier                                                                \n",
       "SVC         SelectKBest(k='all', score_func=<function f_cl...  0.990514   \n",
       "LR          SelectKBest(k='all', score_func=<function f_cl...  0.993682   \n",
       "RFC         SelectKBest(k='all', score_func=<function f_cl...  0.992002   \n",
       "\n",
       "                 std  \n",
       "classifier            \n",
       "SVC         0.007157  \n",
       "LR          0.004659  \n",
       "RFC         0.005714  "
      ]
     },
     "metadata": {},
     "output_type": "display_data"
    },
    {
     "data": {
      "text/plain": [
       "<Figure size 576x1008 with 0 Axes>"
      ]
     },
     "metadata": {},
     "output_type": "display_data"
    }
   ],
   "source": [
    "# observing function\n",
    "temp_grid.print_results()"
   ]
  },
  {
   "cell_type": "code",
   "execution_count": null,
   "metadata": {},
   "outputs": [],
   "source": [
    "temp_grid.bootstrap_632()"
   ]
  },
  {
   "cell_type": "code",
   "execution_count": null,
   "metadata": {},
   "outputs": [],
   "source": [
    "temp_grid.loo_cv()\n",
    "\n",
    "# test_classification\n",
    "# SVC:   acc 0.96  tpr 0.94  tnr 0.97  time 97.8\n",
    "# LR:   acc 0.97  tpr 0.97  tnr 0.97  time 66.53\n",
    "# RFC:   acc 0.96  tpr 0.95  tnr 0.96  time 410.69"
   ]
  },
  {
   "cell_type": "code",
   "execution_count": null,
   "metadata": {},
   "outputs": [],
   "source": [
    "# function with validation, full pipeline\n",
    "temp_grid.train_val(problem_name='cancer', \n",
    "                    fig_name='results/cancer_grid_val_plot')"
   ]
  },
  {
   "cell_type": "markdown",
   "metadata": {},
   "source": [
    "//TODO \n",
    "0. почему у LR на фолдах такая дисперсия\n",
    "1. check logging file\n",
    "2. проверить импорты, не импортируем ли мы слишком много\n",
    "3. исправить ворнинги\n",
    "4. сделать отчет входного анализа\n",
    "5. сделать входный выбор грида"
   ]
  },
  {
   "cell_type": "code",
   "execution_count": null,
   "metadata": {},
   "outputs": [],
   "source": []
  }
 ],
 "metadata": {
  "kernelspec": {
   "display_name": "Python 3",
   "language": "python",
   "name": "python3"
  },
  "language_info": {
   "codemirror_mode": {
    "name": "ipython",
    "version": 3
   },
   "file_extension": ".py",
   "mimetype": "text/x-python",
   "name": "python",
   "nbconvert_exporter": "python",
   "pygments_lexer": "ipython3",
   "version": "3.7.4"
  }
 },
 "nbformat": 4,
 "nbformat_minor": 2
}
